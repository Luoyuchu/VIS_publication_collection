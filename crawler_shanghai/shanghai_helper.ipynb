{
 "cells": [
  {
   "cell_type": "code",
   "execution_count": 2,
   "metadata": {},
   "outputs": [],
   "source": [
    "import pymongo\n",
    "import json\n",
    "import urllib.parse\n",
    "from bs4 import BeautifulSoup\n",
    "import requests\n",
    "import lxml\n",
    "from tqdm import tqdm\n",
    "import re\n",
    "import pymongo\n",
    "import datetime\n",
    "from multiprocessing import Pool\n",
    "from threading import Thread"
   ]
  },
  {
   "cell_type": "code",
   "execution_count": 3,
   "metadata": {},
   "outputs": [],
   "source": [
    "mongoClient = pymongo.MongoClient(\"mongodb://localhost:27017/\")\n",
    "dbClient = mongoClient[\"shanghai_help\"]\n",
    "db = dbClient['db']\n"
   ]
  },
  {
   "cell_type": "code",
   "execution_count": 4,
   "metadata": {},
   "outputs": [],
   "source": [
    "\n",
    "\n",
    "class pageScraper:\n",
    "    def __init__(self):\n",
    "        self.base_url = \"https://www.daohouer.com/index.php?page={}&hdid=&cjtype=&address=#\"\n",
    "        self.basic_header = {\n",
    "            'User-agent':\n",
    "            \"Mozilla/5.0 (Windows NT 10.0; Win64; x64) AppleWebKit/537.36 (KHTML, like Gecko) Chrome/70.0.3538.102 Safari/537.36 Edge/18.19582\",\n",
    "        }\n",
    "        self.table_keys = ['id', 'time', 'emergency', 'category', 'abstract', 'location']\n",
    "\n",
    "    def get_page(self, page_index):\n",
    "        print(page_index)\n",
    "        page_url = self.base_url.format(page_index)\n",
    "        r = requests.get(page_url, headers=self.basic_header)\n",
    "        soup = BeautifulSoup(r.content, 'lxml')\n",
    "        table = soup.select(\"#table_id_example > tbody\")[0]\n",
    "\n",
    "\n",
    "        result = []\n",
    "        for item in table.select(\"tr\"):\n",
    "            tds = item.select('td')\n",
    "            data_item = {}\n",
    "            for i in range(len(self.table_keys)):\n",
    "                if i == 1:\n",
    "                    data_item[self.table_keys[i]] = '2022-' + re.sub(r'\\s+', 'T', tds[1].get_text().strip())\n",
    "                else:\n",
    "                    data_item[self.table_keys[i]] = tds[i].get_text().strip()\n",
    "            # print() # id\n",
    "            # print('2022-' + re.sub(r'\\s+', 'T', tds[1].get_text().strip())) # date\n",
    "            # print(tds[2].get_text()) # emergency\n",
    "            # print(tds[3].get_text()) # category\n",
    "            # print(tds[4].get_text()) # abstract\n",
    "            # print(tds[5].get_text()) # location\n",
    "            \n",
    "\n",
    "            content_url = page_url + \"#open-modal\" + data_item['id']\n",
    "            r = requests.get(content_url)\n",
    "            content_soup = BeautifulSoup(r.content, 'lxml')\n",
    "            content_div = content_soup.select(\".modal-window > div\")[0]\n",
    "            start_flag = False\n",
    "            acc_str = \"\"\n",
    "            content_strs = []\n",
    "            for i in content_div.children:\n",
    "                if (i.name == 'h4'):\n",
    "                    start_flag = True\n",
    "                if start_flag and i.name == None:\n",
    "                    acc_str += i.strip()\n",
    "                if start_flag and i.name == 'br':\n",
    "                    content_strs.append(acc_str)\n",
    "                    acc_str = \"\"\n",
    "            data_item['content'] = content_strs[0]\n",
    "            for i in content_strs[1:]:\n",
    "                if re.match(r\"^联系人: \", i):\n",
    "                    data_item['person'] = i[4:]\n",
    "                if re.match(r\"^联系电话: \", i):\n",
    "                    data_item['phone'] = i[5:]\n",
    "                if re.match(r\"^联系地址: \", i):\n",
    "                    data_item['address'] = i[5:]\n",
    "            # print(content_strs, data_item)\n",
    "            result.append(data_item)\n",
    "        now = datetime.datetime.now(datetime.timezone.utc)\n",
    "        for i in result:\n",
    "            i['crawl_time'] = now\n",
    "            db.find_one_and_update(\n",
    "                {\"id\": i['id']},\n",
    "                {\n",
    "                    \"$set\": i\n",
    "                },\n",
    "                upsert=True\n",
    "            )\n",
    "        print(\"...\", page_index)\n",
    "        return result\n",
    "\n",
    "\n"
   ]
  },
  {
   "cell_type": "code",
   "execution_count": 5,
   "metadata": {},
   "outputs": [
    {
     "name": "stdout",
     "output_type": "stream",
     "text": [
      "[[2]]\n"
     ]
    }
   ],
   "source": [
    "print([[i] for i in range(2, 3)])"
   ]
  },
  {
   "cell_type": "code",
   "execution_count": 6,
   "metadata": {},
   "outputs": [
    {
     "ename": "Error",
     "evalue": "Canceled future for execute_request message before replies were done",
     "output_type": "error",
     "traceback": [
      "Error: Canceled future for execute_request message before replies were done",
      "at t.KernelShellFutureHandler.dispose (c:\\Users\\luoyuchu\\.vscode\\extensions\\ms-toolsai.jupyter-2022.3.1000901801\\out\\extension.js:2:1204175)",
      "at c:\\Users\\luoyuchu\\.vscode\\extensions\\ms-toolsai.jupyter-2022.3.1000901801\\out\\extension.js:2:1223227",
      "at Map.forEach (<anonymous>)",
      "at v._clearKernelState (c:\\Users\\luoyuchu\\.vscode\\extensions\\ms-toolsai.jupyter-2022.3.1000901801\\out\\extension.js:2:1223212)",
      "at v.dispose (c:\\Users\\luoyuchu\\.vscode\\extensions\\ms-toolsai.jupyter-2022.3.1000901801\\out\\extension.js:2:1216694)",
      "at c:\\Users\\luoyuchu\\.vscode\\extensions\\ms-toolsai.jupyter-2022.3.1000901801\\out\\extension.js:2:533674",
      "at t.swallowExceptions (c:\\Users\\luoyuchu\\.vscode\\extensions\\ms-toolsai.jupyter-2022.3.1000901801\\out\\extension.js:2:913059)",
      "at dispose (c:\\Users\\luoyuchu\\.vscode\\extensions\\ms-toolsai.jupyter-2022.3.1000901801\\out\\extension.js:2:533652)",
      "at t.RawSession.dispose (c:\\Users\\luoyuchu\\.vscode\\extensions\\ms-toolsai.jupyter-2022.3.1000901801\\out\\extension.js:2:537330)",
      "at runMicrotasks (<anonymous>)",
      "at processTicksAndRejections (node:internal/process/task_queues:96:5)"
     ]
    }
   ],
   "source": [
    "scraper = pageScraper()\n",
    "scraper_pool = Pool(1)\n",
    "scraper_pool.map(scraper.get_page, [2])\n",
    "scraper_pool.terminate()\n",
    "scraper_pool.join()\n"
   ]
  }
 ],
 "metadata": {
  "interpreter": {
   "hash": "4fa5195eeb3a10928adea65ad78b54b07005553f07674351a648a96c535c4399"
  },
  "kernelspec": {
   "display_name": "Python 3.8.11 ('general')",
   "language": "python",
   "name": "python3"
  },
  "language_info": {
   "name": "python",
   "version": "3.8.11"
  },
  "orig_nbformat": 4
 },
 "nbformat": 4,
 "nbformat_minor": 2
}
