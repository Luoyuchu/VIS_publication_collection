{
 "cells": [
  {
   "cell_type": "code",
   "execution_count": 1,
   "metadata": {},
   "outputs": [],
   "source": [
    "import re\n",
    "import json"
   ]
  },
  {
   "cell_type": "markdown",
   "metadata": {},
   "source": [
    "#### Concat2Seperate\n",
    "from: \n",
    "\n",
    "```\n",
    "$PAPER_INFO := \n",
    "$PAPER_TITLE. $PAPER_AUTHORS\n",
    "```\n",
    "\n",
    "to\n",
    "\n",
    "```\n",
    "$PAPER_INFO := \n",
    "$PAPER_TITLE.\n",
    "Authors: $PAPER_AUTHORS\n",
    "```"
   ]
  },
  {
   "cell_type": "code",
   "execution_count": 21,
   "metadata": {},
   "outputs": [],
   "source": [
    "output_file = open(\"data_output\", \"w\")\n",
    "\n",
    "with open(\"data_tmp\", \"r\") as f:\n",
    "    for i in f.readlines():\n",
    "        paper_str = i.strip('')\n",
    "        if re.match(r'^\\s*$', paper_str):\n",
    "            continue\n",
    "        r = re.match(r'^([^\\.]*)\\.(.*)', paper_str)\n",
    "        try:\n",
    "            paper_name, paper_author = r.groups()\n",
    "            paper_name = paper_name.strip()\n",
    "            paper_author = paper_author.strip(' ')\n",
    "            print(paper_name, file=output_file)\n",
    "            print(\"Authors: \" + paper_author + \"\\n\", file=output_file)\n",
    "        except:\n",
    "            print(paper_str)\n"
   ]
  },
  {
   "cell_type": "markdown",
   "metadata": {},
   "source": [
    "#### Remove 'and'\n",
    "from: \n",
    "\n",
    "```\n",
    "$PAPER_AUTHORS := $AAA, $BBB, and $CCC\n",
    "```\n",
    "\n",
    "to\n",
    "\n",
    "```\n",
    "$PAPER_AUTHORS := $AAA, $BBB, $CCC\n",
    "```"
   ]
  },
  {
   "cell_type": "code",
   "execution_count": null,
   "metadata": {},
   "outputs": [],
   "source": [
    "\n",
    "output_file = open(\"data_output\", \"w\")\n",
    "\n",
    "with open(\"data_tmp\", \"r\") as f:\n",
    "    iter = f.readlines()\n",
    "    for i in iter:\n",
    "        paper_str = i.strip('')\n",
    "        if re.match(r'^\\s*$', paper_str):\n",
    "            continue\n",
    "        r = re.match(r'^([^\\.]*)\\.(.*)', paper_str)\n",
    "        try:\n",
    "            paper_name, paper_author = r.groups()\n",
    "            paper_name = paper_name.strip()\n",
    "            paper_author = paper_author.strip(' ')\n",
    "            print(paper_name, file=output_file)\n",
    "            print(\"Authors: \" + paper_author + \"\\n\", file=output_file)\n",
    "        except:\n",
    "            print(paper_str)\n"
   ]
  },
  {
   "cell_type": "markdown",
   "metadata": {},
   "source": []
  },
  {
   "cell_type": "code",
   "execution_count": null,
   "metadata": {},
   "outputs": [],
   "source": []
  }
 ],
 "metadata": {
  "interpreter": {
   "hash": "4fa5195eeb3a10928adea65ad78b54b07005553f07674351a648a96c535c4399"
  },
  "kernelspec": {
   "display_name": "Python 3.8.11 ('general')",
   "language": "python",
   "name": "python3"
  },
  "language_info": {
   "codemirror_mode": {
    "name": "ipython",
    "version": 3
   },
   "file_extension": ".py",
   "mimetype": "text/x-python",
   "name": "python",
   "nbconvert_exporter": "python",
   "pygments_lexer": "ipython3",
   "version": "3.8.11"
  },
  "orig_nbformat": 4
 },
 "nbformat": 4,
 "nbformat_minor": 2
}
