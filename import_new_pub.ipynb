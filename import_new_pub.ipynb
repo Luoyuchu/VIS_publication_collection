{
 "cells": [
  {
   "cell_type": "code",
   "execution_count": 30,
   "metadata": {},
   "outputs": [],
   "source": [
    "import re\n",
    "import pymongo\n",
    "import datetime"
   ]
  },
  {
   "cell_type": "code",
   "execution_count": 21,
   "metadata": {},
   "outputs": [],
   "source": [
    "mongoClient = pymongo.MongoClient(\"mongodb://localhost:27017/\")\n",
    "temporalSpatialDb = mongoClient[\"temporal_spatial_vispub\"]\n",
    "temporalSpatialDbPaper = temporalSpatialDb['paper']"
   ]
  },
  {
   "cell_type": "code",
   "execution_count": 33,
   "metadata": {},
   "outputs": [
    {
     "name": "stdout",
     "output_type": "stream",
     "text": [
      "2021\n",
      "2020\n",
      "2019\n",
      "2018\n",
      "2017\n"
     ]
    }
   ],
   "source": [
    "currentYear = ''\n",
    "currentVenue = 'VIS'\n",
    "\n",
    "def newItem(title, author, year, venue):\n",
    "    # print(title)\n",
    "    # print(author)\n",
    "    # print(year)\n",
    "    # print(venue)\n",
    "    now = datetime.datetime.now(datetime.timezone.utc)\n",
    "    temporalSpatialDbPaper.find_one_and_update(\n",
    "        {\"title_annotated\": title, \n",
    "        \"author_annotated\": author,\n",
    "        \"conference\": venue,\n",
    "        \"year\": year},\n",
    "    {\n",
    "        \"$set\": {\n",
    "            'last_update_date': now,\n",
    "        }\n",
    "    },\n",
    "    upsert=True)\n",
    "\n",
    "def getAuthors(str):\n",
    "    return list(map(lambda x: re.sub(r'^and ', \"\", x.strip()), authorStr.split(',')))\n",
    "\n",
    "with open(\"data/vis2021-2017.txt\") as f:\n",
    "    title = ''\n",
    "    authors = []\n",
    "    titleCnt = 0\n",
    "    for i in f.readlines():\n",
    "        r = re.match(r'^IEEE VIS (\\d+)', i)\n",
    "        if (r):\n",
    "            print(r.group(1))\n",
    "            currentYear = int(r.group(1))\n",
    "            continue\n",
    "        if re.match(r'^\\s+$', i):\n",
    "            continue\n",
    "        i = i.strip()\n",
    "        \n",
    "        if currentYear == 2021:\n",
    "            title, authorStr = i.split('.')[0:2]\n",
    "            title = title.strip()\n",
    "            authors = getAuthors(authorStr)\n",
    "            newItem(title, authors, currentYear, currentVenue)\n",
    "        else:\n",
    "            r = re.match(r'^Authors:\\s*(.+)$', i)\n",
    "            if r:\n",
    "                authorStr = r.group(1)\n",
    "                authors = getAuthors(authorStr)\n",
    "                titleCnt -= 1\n",
    "                if titleCnt != 0:\n",
    "                    raise Exception(\"title-author unmatch\", i)\n",
    "                newItem(title, authors, currentYear, currentVenue)\n",
    "                \n",
    "            else:\n",
    "                title = i.strip()\n",
    "                titleCnt += 1\n",
    "                if titleCnt > 1:\n",
    "                    raise Exception(\"title-author unmatch!\", i)\n",
    "        \n"
   ]
  }
 ],
 "metadata": {
  "interpreter": {
   "hash": "4fa5195eeb3a10928adea65ad78b54b07005553f07674351a648a96c535c4399"
  },
  "kernelspec": {
   "display_name": "Python 3.8.11 ('general')",
   "language": "python",
   "name": "python3"
  },
  "language_info": {
   "codemirror_mode": {
    "name": "ipython",
    "version": 3
   },
   "file_extension": ".py",
   "mimetype": "text/x-python",
   "name": "python",
   "nbconvert_exporter": "python",
   "pygments_lexer": "ipython3",
   "version": "3.8.11"
  },
  "orig_nbformat": 4
 },
 "nbformat": 4,
 "nbformat_minor": 2
}
